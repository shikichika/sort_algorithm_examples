{
 "cells": [
  {
   "cell_type": "code",
   "execution_count": 74,
   "metadata": {},
   "outputs": [],
   "source": [
    "def bubble_sort(arr):\n",
    "    for i in range(len(arr)-1):\n",
    "        for j in range(len(arr)-i -1):\n",
    "            if arr[j] > arr[j + 1]:\n",
    "                arr[j], arr[j + 1] = arr[j + 1], arr[j]\n",
    "        \n",
    "    return arr"
   ]
  },
  {
   "cell_type": "code",
   "execution_count": 75,
   "metadata": {},
   "outputs": [],
   "source": [
    "def bubble_sort(arr):\n",
    "    change = True\n",
    "    while change:\n",
    "        change = False\n",
    "        for i in range(len(arr)-1):\n",
    "            if arr[i] > arr[i + 1]:\n",
    "                arr[i], arr[i + 1] = arr[i + 1], arr[i]\n",
    "                change = True\n",
    "    return arr"
   ]
  },
  {
   "cell_type": "code",
   "execution_count": 76,
   "metadata": {},
   "outputs": [],
   "source": [
    "def select_sort(arr):\n",
    "    \n",
    "    for i in range(len(arr)):\n",
    "        min_val_num = i\n",
    "        for j in range(i + 1, len(arr)):\n",
    "            if arr[j] < arr[min_val_num]:\n",
    "                arr[j], arr[min_val_num] = arr[min_val_num], arr[j]\n",
    "        print(arr)\n",
    "    return arr\n",
    "\n",
    "                \n",
    "        "
   ]
  },
  {
   "cell_type": "code",
   "execution_count": 72,
   "metadata": {},
   "outputs": [],
   "source": [
    "def insert_sort(arr):\n",
    "    for i in range(1, len(arr)):\n",
    "        j = i - 1\n",
    "        tmp = arr[i]\n",
    "        while arr[j] > tmp and j >= 0:\n",
    "            arr[j+1] = arr[j]\n",
    "            arr[j] = tmp\n",
    "            j -= 1\n",
    "            \n",
    "    return arr"
   ]
  },
  {
   "cell_type": "code",
   "execution_count": 105,
   "metadata": {},
   "outputs": [],
   "source": [
    "def marge_sort(arr):\n",
    "    \n",
    "    # 再帰関数の終わり、結果出力\n",
    "    if len(arr) <= 1:\n",
    "        return arr\n",
    "    \n",
    "    mid = len(arr)//2\n",
    "\n",
    "    # 再起的に分割\n",
    "    left = marge_sort(arr[:mid])\n",
    "    right = marge_sort(arr[mid:])\n",
    "\n",
    "    # 比較\n",
    "    return merge(left, right)\n",
    "\n",
    "def merge(left, right):\n",
    "    result = []\n",
    "    i, j = 0, 0\n",
    "\n",
    "    # 大きさ比較\n",
    "    while i < len(left) and j < len(right):\n",
    "        if left[i] <= right[j]:\n",
    "            result.append(left[i])\n",
    "            i += 1\n",
    "        else:\n",
    "            result.append(right[j])\n",
    "            j += 1\n",
    "\n",
    "    # 残った方を全て入れる　配列なのでextendで後ろから統合\n",
    "    if i < len(left):\n",
    "        result.extend(left[i:])\n",
    "    if j < len(right):\n",
    "        result.extend(right[j:])\n",
    "    \n",
    "    return result"
   ]
  },
  {
   "cell_type": "code",
   "execution_count": 115,
   "metadata": {},
   "outputs": [],
   "source": [
    "def quick_sort(arr):\n",
    "    if len(arr)<= 1:\n",
    "        return arr\n",
    "    \n",
    "    # ピボットは先頭の数字にする\n",
    "    pivot = arr.pop(0)\n",
    "\n",
    "    # 大小分ける\n",
    "    left = [i for i in arr if i <= pivot]\n",
    "    right = [i for i in arr if i > pivot]\n",
    "\n",
    "    left = quick_sort(left)\n",
    "    right = quick_sort(right)\n",
    "\n",
    "    return left + [pivot] +  right"
   ]
  },
  {
   "cell_type": "code",
   "execution_count": 125,
   "metadata": {},
   "outputs": [],
   "source": [
    "def shell_sort(arr):\n",
    "    gap = len(arr) // 2\n",
    "\n",
    "    while gap > 0:\n",
    "        \n",
    "        for i in range(gap, len(arr)):\n",
    "            tmp = arr[i]\n",
    "            j = i\n",
    "\n",
    "            while j >= gap and arr[j - gap]:\n",
    "                arr[j] = arr[j - gap]\n",
    "                j -= gap\n",
    "\n",
    "        gap = gap //2\n",
    "    \n",
    "    return arr"
   ]
  },
  {
   "cell_type": "code",
   "execution_count": 127,
   "metadata": {},
   "outputs": [],
   "source": [
    "def count_sort(arr):\n",
    "    max_num = max(arr)\n",
    "    min_num = min(arr)\n",
    "\n",
    "    count = [0] * (max_num - min_num + 1)\n",
    "\n",
    "    for n in arr:\n",
    "        count[n - min_num] += 1\n",
    "\n",
    "    return [n for n, cnt in enumerate(count, start = min_num)for __ in range(cnt)]"
   ]
  },
  {
   "cell_type": "code",
   "execution_count": null,
   "metadata": {},
   "outputs": [],
   "source": []
  }
 ],
 "metadata": {
  "kernelspec": {
   "display_name": "Python 3",
   "language": "python",
   "name": "python3"
  },
  "language_info": {
   "codemirror_mode": {
    "name": "ipython",
    "version": 3
   },
   "file_extension": ".py",
   "mimetype": "text/x-python",
   "name": "python",
   "nbconvert_exporter": "python",
   "pygments_lexer": "ipython3",
   "version": "3.10.4"
  },
  "orig_nbformat": 4,
  "vscode": {
   "interpreter": {
    "hash": "fe703a900848105ac57fabab90389b0adf0c9dc3ff008863028f68dd74fc23a4"
   }
  }
 },
 "nbformat": 4,
 "nbformat_minor": 2
}
